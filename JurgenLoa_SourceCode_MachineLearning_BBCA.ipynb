{
 "cells": [
  {
   "cell_type": "markdown",
   "id": "5bd0c8a1",
   "metadata": {},
   "source": [
    "## <div align=center> ANALISIS METODE K-NEAREST NEIGHBOR (KNN)\n",
    "\n",
    "## <div align=center> DALAM MEMPREDIKSI PERGERAKAN SAHAM PT BANK CENTRAL ASIA TBK."
   ]
  },
  {
   "cell_type": "markdown",
   "id": "2da73869",
   "metadata": {},
   "source": [
    "### EDA"
   ]
  },
  {
   "cell_type": "markdown",
   "id": "9f79b4a4",
   "metadata": {},
   "source": [
    "#### Import Library"
   ]
  },
  {
   "cell_type": "code",
   "execution_count": 2,
   "id": "34da294d",
   "metadata": {},
   "outputs": [],
   "source": [
    "import pandas as pd\n",
    "from sklearn.model_selection import train_test_split\n",
    "import matplotlib.pyplot as plt\n",
    "import numpy as np\n",
    "from datetime import datetime, time\n",
    "from sklearn.model_selection import train_test_split\n",
    "from sklearn.neighbors import KNeighborsRegressor\n",
    "from sklearn import model_selection\n",
    "from sklearn.metrics import mean_squared_error , r2_score\n",
    "import math"
   ]
  },
  {
   "cell_type": "markdown",
   "id": "ea492135",
   "metadata": {},
   "source": [
    "#### Memanggil dataset yang akan digunakan "
   ]
  },
  {
   "cell_type": "code",
   "execution_count": 3,
   "id": "d3279d00",
   "metadata": {},
   "outputs": [
    {
     "data": {
      "text/html": [
       "<div>\n",
       "<style scoped>\n",
       "    .dataframe tbody tr th:only-of-type {\n",
       "        vertical-align: middle;\n",
       "    }\n",
       "\n",
       "    .dataframe tbody tr th {\n",
       "        vertical-align: top;\n",
       "    }\n",
       "\n",
       "    .dataframe thead th {\n",
       "        text-align: right;\n",
       "    }\n",
       "</style>\n",
       "<table border=\"1\" class=\"dataframe\">\n",
       "  <thead>\n",
       "    <tr style=\"text-align: right;\">\n",
       "      <th></th>\n",
       "      <th>Date</th>\n",
       "      <th>Open</th>\n",
       "      <th>High</th>\n",
       "      <th>Low</th>\n",
       "      <th>Close</th>\n",
       "      <th>Adj Close</th>\n",
       "      <th>Volume</th>\n",
       "    </tr>\n",
       "  </thead>\n",
       "  <tbody>\n",
       "    <tr>\n",
       "      <th>2723</th>\n",
       "      <td>2022-12-19</td>\n",
       "      <td>8650.0</td>\n",
       "      <td>8700.0</td>\n",
       "      <td>8600.0</td>\n",
       "      <td>8650.0</td>\n",
       "      <td>8650.0</td>\n",
       "      <td>67482900</td>\n",
       "    </tr>\n",
       "    <tr>\n",
       "      <th>2724</th>\n",
       "      <td>2022-12-20</td>\n",
       "      <td>8550.0</td>\n",
       "      <td>8650.0</td>\n",
       "      <td>8550.0</td>\n",
       "      <td>8575.0</td>\n",
       "      <td>8575.0</td>\n",
       "      <td>41243700</td>\n",
       "    </tr>\n",
       "    <tr>\n",
       "      <th>2725</th>\n",
       "      <td>2022-12-21</td>\n",
       "      <td>8600.0</td>\n",
       "      <td>8700.0</td>\n",
       "      <td>8575.0</td>\n",
       "      <td>8675.0</td>\n",
       "      <td>8675.0</td>\n",
       "      <td>33617700</td>\n",
       "    </tr>\n",
       "    <tr>\n",
       "      <th>2726</th>\n",
       "      <td>2022-12-22</td>\n",
       "      <td>8650.0</td>\n",
       "      <td>8675.0</td>\n",
       "      <td>8575.0</td>\n",
       "      <td>8575.0</td>\n",
       "      <td>8575.0</td>\n",
       "      <td>59591500</td>\n",
       "    </tr>\n",
       "    <tr>\n",
       "      <th>2727</th>\n",
       "      <td>2022-12-23</td>\n",
       "      <td>8525.0</td>\n",
       "      <td>8575.0</td>\n",
       "      <td>8500.0</td>\n",
       "      <td>8500.0</td>\n",
       "      <td>8500.0</td>\n",
       "      <td>47393000</td>\n",
       "    </tr>\n",
       "    <tr>\n",
       "      <th>2728</th>\n",
       "      <td>2022-12-26</td>\n",
       "      <td>8500.0</td>\n",
       "      <td>8625.0</td>\n",
       "      <td>8500.0</td>\n",
       "      <td>8575.0</td>\n",
       "      <td>8575.0</td>\n",
       "      <td>20495900</td>\n",
       "    </tr>\n",
       "    <tr>\n",
       "      <th>2729</th>\n",
       "      <td>2022-12-27</td>\n",
       "      <td>8600.0</td>\n",
       "      <td>8650.0</td>\n",
       "      <td>8575.0</td>\n",
       "      <td>8600.0</td>\n",
       "      <td>8600.0</td>\n",
       "      <td>27193800</td>\n",
       "    </tr>\n",
       "    <tr>\n",
       "      <th>2730</th>\n",
       "      <td>2022-12-28</td>\n",
       "      <td>8650.0</td>\n",
       "      <td>8650.0</td>\n",
       "      <td>8550.0</td>\n",
       "      <td>8650.0</td>\n",
       "      <td>8650.0</td>\n",
       "      <td>40420200</td>\n",
       "    </tr>\n",
       "    <tr>\n",
       "      <th>2731</th>\n",
       "      <td>2022-12-29</td>\n",
       "      <td>8525.0</td>\n",
       "      <td>8600.0</td>\n",
       "      <td>8500.0</td>\n",
       "      <td>8575.0</td>\n",
       "      <td>8575.0</td>\n",
       "      <td>47020900</td>\n",
       "    </tr>\n",
       "    <tr>\n",
       "      <th>2732</th>\n",
       "      <td>2022-12-30</td>\n",
       "      <td>8575.0</td>\n",
       "      <td>8650.0</td>\n",
       "      <td>8550.0</td>\n",
       "      <td>8550.0</td>\n",
       "      <td>8550.0</td>\n",
       "      <td>44681400</td>\n",
       "    </tr>\n",
       "  </tbody>\n",
       "</table>\n",
       "</div>"
      ],
      "text/plain": [
       "            Date    Open    High     Low   Close  Adj Close    Volume\n",
       "2723  2022-12-19  8650.0  8700.0  8600.0  8650.0     8650.0  67482900\n",
       "2724  2022-12-20  8550.0  8650.0  8550.0  8575.0     8575.0  41243700\n",
       "2725  2022-12-21  8600.0  8700.0  8575.0  8675.0     8675.0  33617700\n",
       "2726  2022-12-22  8650.0  8675.0  8575.0  8575.0     8575.0  59591500\n",
       "2727  2022-12-23  8525.0  8575.0  8500.0  8500.0     8500.0  47393000\n",
       "2728  2022-12-26  8500.0  8625.0  8500.0  8575.0     8575.0  20495900\n",
       "2729  2022-12-27  8600.0  8650.0  8575.0  8600.0     8600.0  27193800\n",
       "2730  2022-12-28  8650.0  8650.0  8550.0  8650.0     8650.0  40420200\n",
       "2731  2022-12-29  8525.0  8600.0  8500.0  8575.0     8575.0  47020900\n",
       "2732  2022-12-30  8575.0  8650.0  8550.0  8550.0     8550.0  44681400"
      ]
     },
     "execution_count": 3,
     "metadata": {},
     "output_type": "execute_result"
    }
   ],
   "source": [
    "df = pd.read_csv('BBCA.JK 10-12.csv')\n",
    "df.tail(10)"
   ]
  },
  {
   "cell_type": "code",
   "execution_count": 5,
   "id": "c6d75ffb",
   "metadata": {},
   "outputs": [
    {
     "name": "stdout",
     "output_type": "stream",
     "text": [
      "<class 'pandas.core.frame.DataFrame'>\n",
      "RangeIndex: 2733 entries, 0 to 2732\n",
      "Data columns (total 7 columns):\n",
      " #   Column     Non-Null Count  Dtype  \n",
      "---  ------     --------------  -----  \n",
      " 0   Date       2733 non-null   object \n",
      " 1   Open       2733 non-null   float64\n",
      " 2   High       2733 non-null   float64\n",
      " 3   Low        2733 non-null   float64\n",
      " 4   Close      2733 non-null   float64\n",
      " 5   Adj Close  2733 non-null   float64\n",
      " 6   Volume     2733 non-null   int64  \n",
      "dtypes: float64(5), int64(1), object(1)\n",
      "memory usage: 149.6+ KB\n"
     ]
    }
   ],
   "source": [
    "df.info()"
   ]
  },
  {
   "cell_type": "markdown",
   "id": "271af3d4",
   "metadata": {},
   "source": [
    "Karena tipe data Date masih object maka perlu diubah ke DateTime."
   ]
  },
  {
   "cell_type": "markdown",
   "id": "8fdf030e",
   "metadata": {},
   "source": [
    "### PreProcessing Data"
   ]
  },
  {
   "cell_type": "code",
   "execution_count": 6,
   "id": "720e67f4",
   "metadata": {},
   "outputs": [
    {
     "name": "stdout",
     "output_type": "stream",
     "text": [
      "           Date    Open    High     Low   Close    Adj Close    Volume\n",
      "0    2012-01-02  1600.0  1600.0  1590.0  1600.0  1375.585205   7870000\n",
      "1    2012-01-03  1620.0  1620.0  1590.0  1620.0  1392.780151  27775000\n",
      "2    2012-01-04  1620.0  1630.0  1600.0  1620.0  1392.780151  87245000\n",
      "3    2012-01-05  1610.0  1630.0  1610.0  1610.0  1384.182983  57197500\n",
      "4    2012-01-06  1600.0  1610.0  1590.0  1600.0  1375.585205  27190000\n",
      "...         ...     ...     ...     ...     ...          ...       ...\n",
      "2728 2022-12-26  8500.0  8625.0  8500.0  8575.0  8575.000000  20495900\n",
      "2729 2022-12-27  8600.0  8650.0  8575.0  8600.0  8600.000000  27193800\n",
      "2730 2022-12-28  8650.0  8650.0  8550.0  8650.0  8650.000000  40420200\n",
      "2731 2022-12-29  8525.0  8600.0  8500.0  8575.0  8575.000000  47020900\n",
      "2732 2022-12-30  8575.0  8650.0  8550.0  8550.0  8550.000000  44681400\n",
      "\n",
      "[2733 rows x 7 columns]\n"
     ]
    }
   ],
   "source": [
    "df['Date'] = pd.to_datetime(df['Date'])\n",
    "print(df)"
   ]
  },
  {
   "cell_type": "code",
   "execution_count": 7,
   "id": "a0489384",
   "metadata": {},
   "outputs": [
    {
     "data": {
      "text/plain": [
       "(2733, 7)"
      ]
     },
     "execution_count": 7,
     "metadata": {},
     "output_type": "execute_result"
    }
   ],
   "source": [
    "df.shape"
   ]
  },
  {
   "cell_type": "code",
   "execution_count": 8,
   "id": "7b561b39",
   "metadata": {},
   "outputs": [
    {
     "data": {
      "text/plain": [
       "Date         0\n",
       "Open         0\n",
       "High         0\n",
       "Low          0\n",
       "Close        0\n",
       "Adj Close    0\n",
       "Volume       0\n",
       "dtype: int64"
      ]
     },
     "execution_count": 8,
     "metadata": {},
     "output_type": "execute_result"
    }
   ],
   "source": [
    "df.isnull().sum()"
   ]
  },
  {
   "cell_type": "markdown",
   "id": "c8f2b1b3",
   "metadata": {},
   "source": [
    "### Pembuatan Model dan Implementasi Algoritma K-Nearest Neighbors"
   ]
  },
  {
   "cell_type": "code",
   "execution_count": 9,
   "id": "637cce48",
   "metadata": {},
   "outputs": [
    {
     "data": {
      "text/html": [
       "<div>\n",
       "<style scoped>\n",
       "    .dataframe tbody tr th:only-of-type {\n",
       "        vertical-align: middle;\n",
       "    }\n",
       "\n",
       "    .dataframe tbody tr th {\n",
       "        vertical-align: top;\n",
       "    }\n",
       "\n",
       "    .dataframe thead th {\n",
       "        text-align: right;\n",
       "    }\n",
       "</style>\n",
       "<table border=\"1\" class=\"dataframe\">\n",
       "  <thead>\n",
       "    <tr style=\"text-align: right;\">\n",
       "      <th></th>\n",
       "      <th>Date</th>\n",
       "      <th>High</th>\n",
       "      <th>Open</th>\n",
       "      <th>Low</th>\n",
       "      <th>Close</th>\n",
       "    </tr>\n",
       "  </thead>\n",
       "  <tbody>\n",
       "    <tr>\n",
       "      <th>0</th>\n",
       "      <td>2012-01-02</td>\n",
       "      <td>1600.0</td>\n",
       "      <td>1600.0</td>\n",
       "      <td>1590.0</td>\n",
       "      <td>1600.0</td>\n",
       "    </tr>\n",
       "    <tr>\n",
       "      <th>1</th>\n",
       "      <td>2012-01-03</td>\n",
       "      <td>1620.0</td>\n",
       "      <td>1620.0</td>\n",
       "      <td>1590.0</td>\n",
       "      <td>1620.0</td>\n",
       "    </tr>\n",
       "    <tr>\n",
       "      <th>2</th>\n",
       "      <td>2012-01-04</td>\n",
       "      <td>1630.0</td>\n",
       "      <td>1620.0</td>\n",
       "      <td>1600.0</td>\n",
       "      <td>1620.0</td>\n",
       "    </tr>\n",
       "    <tr>\n",
       "      <th>3</th>\n",
       "      <td>2012-01-05</td>\n",
       "      <td>1630.0</td>\n",
       "      <td>1610.0</td>\n",
       "      <td>1610.0</td>\n",
       "      <td>1610.0</td>\n",
       "    </tr>\n",
       "    <tr>\n",
       "      <th>4</th>\n",
       "      <td>2012-01-06</td>\n",
       "      <td>1610.0</td>\n",
       "      <td>1600.0</td>\n",
       "      <td>1590.0</td>\n",
       "      <td>1600.0</td>\n",
       "    </tr>\n",
       "    <tr>\n",
       "      <th>5</th>\n",
       "      <td>2012-01-09</td>\n",
       "      <td>1630.0</td>\n",
       "      <td>1630.0</td>\n",
       "      <td>1580.0</td>\n",
       "      <td>1630.0</td>\n",
       "    </tr>\n",
       "    <tr>\n",
       "      <th>6</th>\n",
       "      <td>2012-01-10</td>\n",
       "      <td>1640.0</td>\n",
       "      <td>1630.0</td>\n",
       "      <td>1620.0</td>\n",
       "      <td>1630.0</td>\n",
       "    </tr>\n",
       "    <tr>\n",
       "      <th>7</th>\n",
       "      <td>2012-01-11</td>\n",
       "      <td>1650.0</td>\n",
       "      <td>1620.0</td>\n",
       "      <td>1610.0</td>\n",
       "      <td>1620.0</td>\n",
       "    </tr>\n",
       "    <tr>\n",
       "      <th>8</th>\n",
       "      <td>2012-01-12</td>\n",
       "      <td>1640.0</td>\n",
       "      <td>1630.0</td>\n",
       "      <td>1610.0</td>\n",
       "      <td>1630.0</td>\n",
       "    </tr>\n",
       "    <tr>\n",
       "      <th>9</th>\n",
       "      <td>2012-01-13</td>\n",
       "      <td>1630.0</td>\n",
       "      <td>1600.0</td>\n",
       "      <td>1600.0</td>\n",
       "      <td>1600.0</td>\n",
       "    </tr>\n",
       "  </tbody>\n",
       "</table>\n",
       "</div>"
      ],
      "text/plain": [
       "        Date    High    Open     Low   Close\n",
       "0 2012-01-02  1600.0  1600.0  1590.0  1600.0\n",
       "1 2012-01-03  1620.0  1620.0  1590.0  1620.0\n",
       "2 2012-01-04  1630.0  1620.0  1600.0  1620.0\n",
       "3 2012-01-05  1630.0  1610.0  1610.0  1610.0\n",
       "4 2012-01-06  1610.0  1600.0  1590.0  1600.0\n",
       "5 2012-01-09  1630.0  1630.0  1580.0  1630.0\n",
       "6 2012-01-10  1640.0  1630.0  1620.0  1630.0\n",
       "7 2012-01-11  1650.0  1620.0  1610.0  1620.0\n",
       "8 2012-01-12  1640.0  1630.0  1610.0  1630.0\n",
       "9 2012-01-13  1630.0  1600.0  1600.0  1600.0"
      ]
     },
     "execution_count": 9,
     "metadata": {},
     "output_type": "execute_result"
    }
   ],
   "source": [
    "#prepare dataset to work with \n",
    "bca_df=df[['Date','High','Open','Low','Close']]\n",
    "bca_df.head(10)"
   ]
  },
  {
   "cell_type": "code",
   "execution_count": 10,
   "id": "9346b2c2",
   "metadata": {},
   "outputs": [
    {
     "data": {
      "image/png": "[encoded data removed]",
      "text/plain": [
       "<Figure size 1152x576 with 1 Axes>"
      ]
     },
     "metadata": {
      "needs_background": "light"
     },
     "output_type": "display_data"
    }
   ],
   "source": [
    "plt.figure(figsize=(16,8))\n",
    "plt.title('BCA Stocks Closing Price History 2012-2022')\n",
    "plt.plot(bca_df['Date'],bca_df['Close'])\n",
    "plt.xlabel('Date',fontsize=18)\n",
    "plt.ylabel('Close Price',fontsize=18)\n",
    "plt.style.use('fivethirtyeight')\n",
    "plt.show()"
   ]
  },
  {
   "cell_type": "markdown",
   "id": "9cb09427",
   "metadata": {},
   "source": [
    "#### Model training dan testing"
   ]
  },
  {
   "cell_type": "code",
   "execution_count": 11,
   "id": "2a51284a",
   "metadata": {},
   "outputs": [
    {
     "name": "stderr",
     "output_type": "stream",
     "text": [
      "C:\\Users\\user\\AppData\\Local\\Temp\\ipykernel_27688\\2619449436.py:1: SettingWithCopyWarning: \n",
      "A value is trying to be set on a copy of a slice from a DataFrame.\n",
      "Try using .loc[row_indexer,col_indexer] = value instead\n",
      "\n",
      "See the caveats in the documentation: https://pandas.pydata.org/pandas-docs/stable/user_guide/indexing.html#returning-a-view-versus-a-copy\n",
      "  bca_df['Year']=df['Date'].dt.year\n"
     ]
    }
   ],
   "source": [
    "bca_df['Year']=df['Date'].dt.year\n",
    "bca_df['Month']=df['Date'].dt.month\n",
    "bca_df['Day']=df['Date'].dt.day"
   ]
  },
  {
   "cell_type": "code",
   "execution_count": 12,
   "id": "efb728bb",
   "metadata": {},
   "outputs": [
    {
     "data": {
      "text/html": [
       "<div>\n",
       "<style scoped>\n",
       "    .dataframe tbody tr th:only-of-type {\n",
       "        vertical-align: middle;\n",
       "    }\n",
       "\n",
       "    .dataframe tbody tr th {\n",
       "        vertical-align: top;\n",
       "    }\n",
       "\n",
       "    .dataframe thead th {\n",
       "        text-align: right;\n",
       "    }\n",
       "</style>\n",
       "<table border=\"1\" class=\"dataframe\">\n",
       "  <thead>\n",
       "    <tr style=\"text-align: right;\">\n",
       "      <th></th>\n",
       "      <th>Date</th>\n",
       "      <th>Day</th>\n",
       "      <th>Month</th>\n",
       "      <th>Year</th>\n",
       "      <th>High</th>\n",
       "      <th>Open</th>\n",
       "      <th>Low</th>\n",
       "      <th>Close</th>\n",
       "    </tr>\n",
       "  </thead>\n",
       "  <tbody>\n",
       "    <tr>\n",
       "      <th>0</th>\n",
       "      <td>2012-01-02</td>\n",
       "      <td>2</td>\n",
       "      <td>1</td>\n",
       "      <td>2012</td>\n",
       "      <td>1600.0</td>\n",
       "      <td>1600.0</td>\n",
       "      <td>1590.0</td>\n",
       "      <td>1600.0</td>\n",
       "    </tr>\n",
       "    <tr>\n",
       "      <th>1</th>\n",
       "      <td>2012-01-03</td>\n",
       "      <td>3</td>\n",
       "      <td>1</td>\n",
       "      <td>2012</td>\n",
       "      <td>1620.0</td>\n",
       "      <td>1620.0</td>\n",
       "      <td>1590.0</td>\n",
       "      <td>1620.0</td>\n",
       "    </tr>\n",
       "    <tr>\n",
       "      <th>2</th>\n",
       "      <td>2012-01-04</td>\n",
       "      <td>4</td>\n",
       "      <td>1</td>\n",
       "      <td>2012</td>\n",
       "      <td>1630.0</td>\n",
       "      <td>1620.0</td>\n",
       "      <td>1600.0</td>\n",
       "      <td>1620.0</td>\n",
       "    </tr>\n",
       "    <tr>\n",
       "      <th>3</th>\n",
       "      <td>2012-01-05</td>\n",
       "      <td>5</td>\n",
       "      <td>1</td>\n",
       "      <td>2012</td>\n",
       "      <td>1630.0</td>\n",
       "      <td>1610.0</td>\n",
       "      <td>1610.0</td>\n",
       "      <td>1610.0</td>\n",
       "    </tr>\n",
       "    <tr>\n",
       "      <th>4</th>\n",
       "      <td>2012-01-06</td>\n",
       "      <td>6</td>\n",
       "      <td>1</td>\n",
       "      <td>2012</td>\n",
       "      <td>1610.0</td>\n",
       "      <td>1600.0</td>\n",
       "      <td>1590.0</td>\n",
       "      <td>1600.0</td>\n",
       "    </tr>\n",
       "    <tr>\n",
       "      <th>5</th>\n",
       "      <td>2012-01-09</td>\n",
       "      <td>9</td>\n",
       "      <td>1</td>\n",
       "      <td>2012</td>\n",
       "      <td>1630.0</td>\n",
       "      <td>1630.0</td>\n",
       "      <td>1580.0</td>\n",
       "      <td>1630.0</td>\n",
       "    </tr>\n",
       "    <tr>\n",
       "      <th>6</th>\n",
       "      <td>2012-01-10</td>\n",
       "      <td>10</td>\n",
       "      <td>1</td>\n",
       "      <td>2012</td>\n",
       "      <td>1640.0</td>\n",
       "      <td>1630.0</td>\n",
       "      <td>1620.0</td>\n",
       "      <td>1630.0</td>\n",
       "    </tr>\n",
       "    <tr>\n",
       "      <th>7</th>\n",
       "      <td>2012-01-11</td>\n",
       "      <td>11</td>\n",
       "      <td>1</td>\n",
       "      <td>2012</td>\n",
       "      <td>1650.0</td>\n",
       "      <td>1620.0</td>\n",
       "      <td>1610.0</td>\n",
       "      <td>1620.0</td>\n",
       "    </tr>\n",
       "    <tr>\n",
       "      <th>8</th>\n",
       "      <td>2012-01-12</td>\n",
       "      <td>12</td>\n",
       "      <td>1</td>\n",
       "      <td>2012</td>\n",
       "      <td>1640.0</td>\n",
       "      <td>1630.0</td>\n",
       "      <td>1610.0</td>\n",
       "      <td>1630.0</td>\n",
       "    </tr>\n",
       "    <tr>\n",
       "      <th>9</th>\n",
       "      <td>2012-01-13</td>\n",
       "      <td>13</td>\n",
       "      <td>1</td>\n",
       "      <td>2012</td>\n",
       "      <td>1630.0</td>\n",
       "      <td>1600.0</td>\n",
       "      <td>1600.0</td>\n",
       "      <td>1600.0</td>\n",
       "    </tr>\n",
       "  </tbody>\n",
       "</table>\n",
       "</div>"
      ],
      "text/plain": [
       "        Date  Day  Month  Year    High    Open     Low   Close\n",
       "0 2012-01-02    2      1  2012  1600.0  1600.0  1590.0  1600.0\n",
       "1 2012-01-03    3      1  2012  1620.0  1620.0  1590.0  1620.0\n",
       "2 2012-01-04    4      1  2012  1630.0  1620.0  1600.0  1620.0\n",
       "3 2012-01-05    5      1  2012  1630.0  1610.0  1610.0  1610.0\n",
       "4 2012-01-06    6      1  2012  1610.0  1600.0  1590.0  1600.0\n",
       "5 2012-01-09    9      1  2012  1630.0  1630.0  1580.0  1630.0\n",
       "6 2012-01-10   10      1  2012  1640.0  1630.0  1620.0  1630.0\n",
       "7 2012-01-11   11      1  2012  1650.0  1620.0  1610.0  1620.0\n",
       "8 2012-01-12   12      1  2012  1640.0  1630.0  1610.0  1630.0\n",
       "9 2012-01-13   13      1  2012  1630.0  1600.0  1600.0  1600.0"
      ]
     },
     "execution_count": 12,
     "metadata": {},
     "output_type": "execute_result"
    }
   ],
   "source": [
    "nfx_df=bca_df[['Date','Day','Month','Year','High','Open','Low','Close']]\n",
    "nfx_df.head(10)"
   ]
  },
  {
   "cell_type": "code",
   "execution_count": 13,
   "id": "9bd36f0f",
   "metadata": {},
   "outputs": [
    {
     "name": "stdout",
     "output_type": "stream",
     "text": [
      "      Day  Month  Year\n",
      "0       2      1  2012\n",
      "1       3      1  2012\n",
      "2       4      1  2012\n",
      "3       5      1  2012\n",
      "4       6      1  2012\n",
      "...   ...    ...   ...\n",
      "2728   26     12  2022\n",
      "2729   27     12  2022\n",
      "2730   28     12  2022\n",
      "2731   29     12  2022\n",
      "2732   30     12  2022\n",
      "\n",
      "[2733 rows x 3 columns]\n",
      "[1600. 1620. 1620. ... 8650. 8575. 8550.]\n"
     ]
    }
   ],
   "source": [
    "#separate Independent and dependent variable\n",
    "X = nfx_df[['Day', 'Month', 'Year']]\n",
    "# X = nfx_df['Date'].values.reshape(-1, 1)\n",
    "Y= nfx_df['Close'].values\n",
    "\n",
    "print(X)\n",
    "print(Y)"
   ]
  },
  {
   "cell_type": "markdown",
   "id": "58f09452",
   "metadata": {},
   "source": [
    "#### Splitting to train and test"
   ]
  },
  {
   "cell_type": "code",
   "execution_count": 15,
   "id": "d37079df",
   "metadata": {},
   "outputs": [],
   "source": [
    "x_train,x_test,y_train,y_test= train_test_split(X,Y,test_size=.20)\n",
    "knn_regressor=KNeighborsRegressor(n_neighbors = 5)\n",
    "knn_model=knn_regressor.fit(x_train,y_train)\n",
    "y_knn_pred=knn_model.predict(x_test)"
   ]
  },
  {
   "cell_type": "markdown",
   "id": "711ebf47",
   "metadata": {},
   "source": [
    "#### Checking accuracy"
   ]
  },
  {
   "cell_type": "code",
   "execution_count": 16,
   "id": "83cc2ae8",
   "metadata": {},
   "outputs": [
    {
     "name": "stdout",
     "output_type": "stream",
     "text": [
      "Accuracy:  93.07636207605275\n"
     ]
    }
   ],
   "source": [
    "knn_kfold = model_selection.KFold(n_splits=20, shuffle=True)\n",
    "results_kfold = model_selection.cross_val_score(knn_model, x_test, y_test.astype('int'), cv=knn_kfold)\n",
    "print(\"Accuracy: \", results_kfold.mean()*100)"
   ]
  },
  {
   "cell_type": "markdown",
   "id": "45a4d9f3",
   "metadata": {},
   "source": [
    "#### Visualisasi Model"
   ]
  },
  {
   "cell_type": "code",
   "execution_count": 17,
   "id": "10bae646",
   "metadata": {},
   "outputs": [
    {
     "data": {
      "image/png": "[encoded data removed]",
      "text/plain": [
       "<Figure size 1152x576 with 1 Axes>"
      ]
     },
     "metadata": {},
     "output_type": "display_data"
    }
   ],
   "source": [
    "#Plot Actual and Predicted\n",
    "plot_knn_df=pd.DataFrame({'Actual':y_test,'Pred':y_knn_pred})\n",
    "plot_knn_df.head(20).plot(kind='bar',figsize=(16,8))\n",
    "plt.grid(which='major', linestyle='-', linewidth='0.5', color='green')\n",
    "plt.grid(which='minor', linestyle=':', linewidth='0.5', color='black')\n",
    "plt.show()"
   ]
  },
  {
   "cell_type": "markdown",
   "id": "fa09b9ec",
   "metadata": {},
   "source": [
    "#### Evaluasi Model"
   ]
  },
  {
   "cell_type": "code",
   "execution_count": 18,
   "id": "7d1fc2b0",
   "metadata": {},
   "outputs": [
    {
     "name": "stdout",
     "output_type": "stream",
     "text": [
      "KNN Model Root mean square error 336.78759872429833\n"
     ]
    }
   ],
   "source": [
    "knn_mse=math.sqrt(mean_squared_error(y_test,y_knn_pred))\n",
    "print('KNN Model Root mean square error',knn_mse)"
   ]
  },
  {
   "cell_type": "code",
   "execution_count": 19,
   "id": "eb6295d4",
   "metadata": {},
   "outputs": [
    {
     "name": "stdout",
     "output_type": "stream",
     "text": [
      "KNN R2:  0.9736277516917573\n"
     ]
    }
   ],
   "source": [
    "print('KNN R2: ', r2_score(y_test, y_knn_pred))"
   ]
  },
  {
   "cell_type": "markdown",
   "id": "20e1d549",
   "metadata": {},
   "source": [
    "### Deployment Model to Predicted for next 365 days"
   ]
  },
  {
   "cell_type": "code",
   "execution_count": 20,
   "id": "8a3266a6",
   "metadata": {},
   "outputs": [
    {
     "name": "stdout",
     "output_type": "stream",
     "text": [
      "Tanggal Terakhir:  2022-12-30 00:00:00\n"
     ]
    }
   ],
   "source": [
    "data_tanggal= pd.to_datetime(df['Date'])\n",
    "data_tanggal = data_tanggal.iloc[-1]\n",
    "\n",
    "#Generate data satu tahun kedepan\n",
    "data_tanggal_prediksi = pd.date_range(start=data_tanggal, periods=365, freq='D')\n",
    "X_future = pd.DataFrame()\n",
    "X_future['Day'] = data_tanggal_prediksi.day\n",
    "X_future['Month'] = data_tanggal_prediksi.month\n",
    "X_future['Year'] = data_tanggal_prediksi.year\n",
    "\n",
    "print(\"Tanggal Terakhir: \", data_tanggal)\n",
    "X_future.head()\n",
    "# X_future\n",
    "# X_future = np.array(data_tanggal_prediksi).reshape(-1, 1)\n",
    "y_pred_future = knn_model.predict(X_future)"
   ]
  },
  {
   "cell_type": "markdown",
   "id": "5a5eb75f",
   "metadata": {},
   "source": [
    "#### Checking model's accuracy"
   ]
  },
  {
   "cell_type": "code",
   "execution_count": 21,
   "id": "82eab7d5",
   "metadata": {},
   "outputs": [
    {
     "name": "stdout",
     "output_type": "stream",
     "text": [
      "Accuracy:  84.10980895009784\n"
     ]
    }
   ],
   "source": [
    "knn_kfold = model_selection.KFold(n_splits=20, shuffle=True)\n",
    "results_kfold = model_selection.cross_val_score(knn_model, X_future, y_pred_future, cv=knn_kfold)\n",
    "print(\"Accuracy: \", results_kfold.mean()*100)"
   ]
  },
  {
   "cell_type": "markdown",
   "id": "f6d39564",
   "metadata": {},
   "source": [
    "#### Visualisasi Model"
   ]
  },
  {
   "cell_type": "code",
   "execution_count": 22,
   "id": "ca8b1341",
   "metadata": {},
   "outputs": [
    {
     "data": {
      "image/png": "[encoded data removed]",
      "text/plain": [
       "<Figure size 864x432 with 1 Axes>"
      ]
     },
     "metadata": {},
     "output_type": "display_data"
    }
   ],
   "source": [
    "plt.figure(figsize=(12, 6))\n",
    "plt.plot(df['Date'], df['Close'], label='Historical Prices')\n",
    "plt.plot(data_tanggal_prediksi, y_pred_future, label='Predicted Prices')\n",
    "plt.xlabel('Date')\n",
    "plt.ylabel('Stock Price')\n",
    "plt.title('One-Year Stock Price Prediction using Date Feature')\n",
    "plt.legend()\n",
    "plt.xticks(rotation=45)\n",
    "plt.grid(True)\n",
    "plt.show()"
   ]
  }
 ],
 "metadata": {
  "kernelspec": {
   "display_name": "Python 3 (ipykernel)",
   "language": "python",
   "name": "python3"
  },
  "language_info": {
   "codemirror_mode": {
    "name": "ipython",
    "version": 3
   },
   "file_extension": ".py",
   "mimetype": "text/x-python",
   "name": "python",
   "nbconvert_exporter": "python",
   "pygments_lexer": "ipython3",
   "version": "3.11.5"
  }
 },
 "nbformat": 4,
 "nbformat_minor": 5
}
